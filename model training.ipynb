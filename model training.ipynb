{
 "cells": [
  {
   "cell_type": "code",
   "execution_count": 120,
   "id": "18c415d7-57c6-41af-bc4b-13c02546ebd9",
   "metadata": {},
   "outputs": [],
   "source": [
    "import pandas as pd"
   ]
  },
  {
   "cell_type": "code",
   "execution_count": 121,
   "id": "1d3b93ce-e723-48c3-95ab-4c6047062cc2",
   "metadata": {},
   "outputs": [],
   "source": [
    "df=pd.read_csv(\"spotify_millsongdata.csv\")"
   ]
  },
  {
   "cell_type": "code",
   "execution_count": 122,
   "id": "a039aba7-5f1a-45d7-a1c7-a25a9a37e1e4",
   "metadata": {},
   "outputs": [
    {
     "data": {
      "text/html": [
       "<div>\n",
       "<style scoped>\n",
       "    .dataframe tbody tr th:only-of-type {\n",
       "        vertical-align: middle;\n",
       "    }\n",
       "\n",
       "    .dataframe tbody tr th {\n",
       "        vertical-align: top;\n",
       "    }\n",
       "\n",
       "    .dataframe thead th {\n",
       "        text-align: right;\n",
       "    }\n",
       "</style>\n",
       "<table border=\"1\" class=\"dataframe\">\n",
       "  <thead>\n",
       "    <tr style=\"text-align: right;\">\n",
       "      <th></th>\n",
       "      <th>artist</th>\n",
       "      <th>song</th>\n",
       "      <th>link</th>\n",
       "      <th>text</th>\n",
       "    </tr>\n",
       "  </thead>\n",
       "  <tbody>\n",
       "    <tr>\n",
       "      <th>0</th>\n",
       "      <td>ABBA</td>\n",
       "      <td>Ahe's My Kind Of Girl</td>\n",
       "      <td>/a/abba/ahes+my+kind+of+girl_20598417.html</td>\n",
       "      <td>Look at her face, it's a wonderful face  \\r\\nA...</td>\n",
       "    </tr>\n",
       "    <tr>\n",
       "      <th>1</th>\n",
       "      <td>ABBA</td>\n",
       "      <td>Andante, Andante</td>\n",
       "      <td>/a/abba/andante+andante_20002708.html</td>\n",
       "      <td>Take it easy with me, please  \\r\\nTouch me gen...</td>\n",
       "    </tr>\n",
       "    <tr>\n",
       "      <th>2</th>\n",
       "      <td>ABBA</td>\n",
       "      <td>As Good As New</td>\n",
       "      <td>/a/abba/as+good+as+new_20003033.html</td>\n",
       "      <td>I'll never know why I had to go  \\r\\nWhy I had...</td>\n",
       "    </tr>\n",
       "    <tr>\n",
       "      <th>3</th>\n",
       "      <td>ABBA</td>\n",
       "      <td>Bang</td>\n",
       "      <td>/a/abba/bang_20598415.html</td>\n",
       "      <td>Making somebody happy is a question of give an...</td>\n",
       "    </tr>\n",
       "    <tr>\n",
       "      <th>4</th>\n",
       "      <td>ABBA</td>\n",
       "      <td>Bang-A-Boomerang</td>\n",
       "      <td>/a/abba/bang+a+boomerang_20002668.html</td>\n",
       "      <td>Making somebody happy is a question of give an...</td>\n",
       "    </tr>\n",
       "  </tbody>\n",
       "</table>\n",
       "</div>"
      ],
      "text/plain": [
       "  artist                   song                                        link  \\\n",
       "0   ABBA  Ahe's My Kind Of Girl  /a/abba/ahes+my+kind+of+girl_20598417.html   \n",
       "1   ABBA       Andante, Andante       /a/abba/andante+andante_20002708.html   \n",
       "2   ABBA         As Good As New        /a/abba/as+good+as+new_20003033.html   \n",
       "3   ABBA                   Bang                  /a/abba/bang_20598415.html   \n",
       "4   ABBA       Bang-A-Boomerang      /a/abba/bang+a+boomerang_20002668.html   \n",
       "\n",
       "                                                text  \n",
       "0  Look at her face, it's a wonderful face  \\r\\nA...  \n",
       "1  Take it easy with me, please  \\r\\nTouch me gen...  \n",
       "2  I'll never know why I had to go  \\r\\nWhy I had...  \n",
       "3  Making somebody happy is a question of give an...  \n",
       "4  Making somebody happy is a question of give an...  "
      ]
     },
     "execution_count": 122,
     "metadata": {},
     "output_type": "execute_result"
    }
   ],
   "source": [
    "df.head(5)"
   ]
  },
  {
   "cell_type": "code",
   "execution_count": 123,
   "id": "760afd4a-3933-4082-82cb-aa1f16b3a724",
   "metadata": {},
   "outputs": [
    {
     "data": {
      "text/html": [
       "<div>\n",
       "<style scoped>\n",
       "    .dataframe tbody tr th:only-of-type {\n",
       "        vertical-align: middle;\n",
       "    }\n",
       "\n",
       "    .dataframe tbody tr th {\n",
       "        vertical-align: top;\n",
       "    }\n",
       "\n",
       "    .dataframe thead th {\n",
       "        text-align: right;\n",
       "    }\n",
       "</style>\n",
       "<table border=\"1\" class=\"dataframe\">\n",
       "  <thead>\n",
       "    <tr style=\"text-align: right;\">\n",
       "      <th></th>\n",
       "      <th>artist</th>\n",
       "      <th>song</th>\n",
       "      <th>link</th>\n",
       "      <th>text</th>\n",
       "    </tr>\n",
       "  </thead>\n",
       "  <tbody>\n",
       "    <tr>\n",
       "      <th>57645</th>\n",
       "      <td>Ziggy Marley</td>\n",
       "      <td>Good Old Days</td>\n",
       "      <td>/z/ziggy+marley/good+old+days_10198588.html</td>\n",
       "      <td>Irie days come on play  \\r\\nLet the angels fly...</td>\n",
       "    </tr>\n",
       "    <tr>\n",
       "      <th>57646</th>\n",
       "      <td>Ziggy Marley</td>\n",
       "      <td>Hand To Mouth</td>\n",
       "      <td>/z/ziggy+marley/hand+to+mouth_20531167.html</td>\n",
       "      <td>Power to the workers  \\r\\nMore power  \\r\\nPowe...</td>\n",
       "    </tr>\n",
       "    <tr>\n",
       "      <th>57647</th>\n",
       "      <td>Zwan</td>\n",
       "      <td>Come With Me</td>\n",
       "      <td>/z/zwan/come+with+me_20148981.html</td>\n",
       "      <td>all you need  \\r\\nis something i'll believe  \\...</td>\n",
       "    </tr>\n",
       "    <tr>\n",
       "      <th>57648</th>\n",
       "      <td>Zwan</td>\n",
       "      <td>Desire</td>\n",
       "      <td>/z/zwan/desire_20148986.html</td>\n",
       "      <td>northern star  \\r\\nam i frightened  \\r\\nwhere ...</td>\n",
       "    </tr>\n",
       "    <tr>\n",
       "      <th>57649</th>\n",
       "      <td>Zwan</td>\n",
       "      <td>Heartsong</td>\n",
       "      <td>/z/zwan/heartsong_20148991.html</td>\n",
       "      <td>come in  \\r\\nmake yourself at home  \\r\\ni'm a ...</td>\n",
       "    </tr>\n",
       "  </tbody>\n",
       "</table>\n",
       "</div>"
      ],
      "text/plain": [
       "             artist           song  \\\n",
       "57645  Ziggy Marley  Good Old Days   \n",
       "57646  Ziggy Marley  Hand To Mouth   \n",
       "57647          Zwan   Come With Me   \n",
       "57648          Zwan         Desire   \n",
       "57649          Zwan      Heartsong   \n",
       "\n",
       "                                              link  \\\n",
       "57645  /z/ziggy+marley/good+old+days_10198588.html   \n",
       "57646  /z/ziggy+marley/hand+to+mouth_20531167.html   \n",
       "57647           /z/zwan/come+with+me_20148981.html   \n",
       "57648                 /z/zwan/desire_20148986.html   \n",
       "57649              /z/zwan/heartsong_20148991.html   \n",
       "\n",
       "                                                    text  \n",
       "57645  Irie days come on play  \\r\\nLet the angels fly...  \n",
       "57646  Power to the workers  \\r\\nMore power  \\r\\nPowe...  \n",
       "57647  all you need  \\r\\nis something i'll believe  \\...  \n",
       "57648  northern star  \\r\\nam i frightened  \\r\\nwhere ...  \n",
       "57649  come in  \\r\\nmake yourself at home  \\r\\ni'm a ...  "
      ]
     },
     "execution_count": 123,
     "metadata": {},
     "output_type": "execute_result"
    }
   ],
   "source": [
    "df.tail(5)"
   ]
  },
  {
   "cell_type": "code",
   "execution_count": 124,
   "id": "0a282c70-91b4-435b-9d5a-b0cd87ad1b36",
   "metadata": {},
   "outputs": [
    {
     "data": {
      "text/plain": [
       "(57650, 4)"
      ]
     },
     "execution_count": 124,
     "metadata": {},
     "output_type": "execute_result"
    }
   ],
   "source": [
    "df.shape"
   ]
  },
  {
   "cell_type": "code",
   "execution_count": 125,
   "id": "a1812676-bc12-4d97-b7e7-042b8244f782",
   "metadata": {},
   "outputs": [
    {
     "data": {
      "text/plain": [
       "artist    0\n",
       "song      0\n",
       "link      0\n",
       "text      0\n",
       "dtype: int64"
      ]
     },
     "execution_count": 125,
     "metadata": {},
     "output_type": "execute_result"
    }
   ],
   "source": [
    "df.isnull().sum()"
   ]
  },
  {
   "cell_type": "code",
   "execution_count": 126,
   "id": "6d44bb78-b056-44dd-b51c-5493d87e32ec",
   "metadata": {},
   "outputs": [],
   "source": [
    "df=df.sample(5000).drop('link', axis=1).reset_index(drop=True)"
   ]
  },
  {
   "cell_type": "code",
   "execution_count": 127,
   "id": "d519cdba-89a5-42a8-81c8-a29fb58ba57e",
   "metadata": {},
   "outputs": [
    {
     "data": {
      "text/html": [
       "<div>\n",
       "<style scoped>\n",
       "    .dataframe tbody tr th:only-of-type {\n",
       "        vertical-align: middle;\n",
       "    }\n",
       "\n",
       "    .dataframe tbody tr th {\n",
       "        vertical-align: top;\n",
       "    }\n",
       "\n",
       "    .dataframe thead th {\n",
       "        text-align: right;\n",
       "    }\n",
       "</style>\n",
       "<table border=\"1\" class=\"dataframe\">\n",
       "  <thead>\n",
       "    <tr style=\"text-align: right;\">\n",
       "      <th></th>\n",
       "      <th>artist</th>\n",
       "      <th>song</th>\n",
       "      <th>text</th>\n",
       "    </tr>\n",
       "  </thead>\n",
       "  <tbody>\n",
       "    <tr>\n",
       "      <th>0</th>\n",
       "      <td>Ying Yang Twins</td>\n",
       "      <td>Sound Off</td>\n",
       "      <td>(Chorus)  \\r\\nONE, TWO, you know what to do  \\...</td>\n",
       "    </tr>\n",
       "    <tr>\n",
       "      <th>1</th>\n",
       "      <td>Black Sabbath</td>\n",
       "      <td>Mob Rules</td>\n",
       "      <td>Close the city and tell the people that someth...</td>\n",
       "    </tr>\n",
       "    <tr>\n",
       "      <th>2</th>\n",
       "      <td>Chicago</td>\n",
       "      <td>Bad Advice</td>\n",
       "      <td>She said, \"Tell me what it's all about.\" I sai...</td>\n",
       "    </tr>\n",
       "    <tr>\n",
       "      <th>3</th>\n",
       "      <td>Electric Light Orchestra</td>\n",
       "      <td>Xanadu</td>\n",
       "      <td>A place where nobody dared to go  \\r\\nThe love...</td>\n",
       "    </tr>\n",
       "    <tr>\n",
       "      <th>4</th>\n",
       "      <td>Lorde</td>\n",
       "      <td>Everybody Wants To Rule The World</td>\n",
       "      <td>Welcome to your life  \\r\\nThere's no turning b...</td>\n",
       "    </tr>\n",
       "    <tr>\n",
       "      <th>5</th>\n",
       "      <td>Mary Black</td>\n",
       "      <td>Theres A Train That Leaves Tonight</td>\n",
       "      <td>Like a jazz refrain the midnight train is call...</td>\n",
       "    </tr>\n",
       "    <tr>\n",
       "      <th>6</th>\n",
       "      <td>Used</td>\n",
       "      <td>Give Me Love</td>\n",
       "      <td>I lived out more than a little,  \\r\\nGive my i...</td>\n",
       "    </tr>\n",
       "    <tr>\n",
       "      <th>7</th>\n",
       "      <td>George Strait</td>\n",
       "      <td>House Of Cash</td>\n",
       "      <td>Well the House of Cash just burned down  \\r\\nA...</td>\n",
       "    </tr>\n",
       "    <tr>\n",
       "      <th>8</th>\n",
       "      <td>Pearl Jam</td>\n",
       "      <td>Even Flow</td>\n",
       "      <td>Freezin' rests his head on a pillow made of co...</td>\n",
       "    </tr>\n",
       "    <tr>\n",
       "      <th>9</th>\n",
       "      <td>Face To Face</td>\n",
       "      <td>Heart Of Hearts</td>\n",
       "      <td>Close your eyes and try to get to sleep  \\r\\nN...</td>\n",
       "    </tr>\n",
       "  </tbody>\n",
       "</table>\n",
       "</div>"
      ],
      "text/plain": [
       "                     artist                                song  \\\n",
       "0           Ying Yang Twins                           Sound Off   \n",
       "1             Black Sabbath                           Mob Rules   \n",
       "2                   Chicago                          Bad Advice   \n",
       "3  Electric Light Orchestra                              Xanadu   \n",
       "4                     Lorde   Everybody Wants To Rule The World   \n",
       "5                Mary Black  Theres A Train That Leaves Tonight   \n",
       "6                      Used                        Give Me Love   \n",
       "7             George Strait                       House Of Cash   \n",
       "8                 Pearl Jam                           Even Flow   \n",
       "9              Face To Face                     Heart Of Hearts   \n",
       "\n",
       "                                                text  \n",
       "0  (Chorus)  \\r\\nONE, TWO, you know what to do  \\...  \n",
       "1  Close the city and tell the people that someth...  \n",
       "2  She said, \"Tell me what it's all about.\" I sai...  \n",
       "3  A place where nobody dared to go  \\r\\nThe love...  \n",
       "4  Welcome to your life  \\r\\nThere's no turning b...  \n",
       "5  Like a jazz refrain the midnight train is call...  \n",
       "6  I lived out more than a little,  \\r\\nGive my i...  \n",
       "7  Well the House of Cash just burned down  \\r\\nA...  \n",
       "8  Freezin' rests his head on a pillow made of co...  \n",
       "9  Close your eyes and try to get to sleep  \\r\\nN...  "
      ]
     },
     "execution_count": 127,
     "metadata": {},
     "output_type": "execute_result"
    }
   ],
   "source": [
    "df.head(10)"
   ]
  },
  {
   "cell_type": "code",
   "execution_count": 128,
   "id": "252613d7-f428-4d83-995e-82f68a3581e2",
   "metadata": {},
   "outputs": [
    {
     "data": {
      "text/plain": [
       "\"(Chorus)  \\r\\nONE, TWO, you know what to do  \\r\\nONE, TWO, you know what to do  \\r\\nSOUND OFF, all my hoes in this muthafucker  \\r\\nSOUND OFF, all my niggas in this muthafucker  \\r\\nSOUND OFF, Ying Yang in this muthafucker  \\r\\nSOUND OFF, NIGGA, SOUND OFF, SOUND OFF  \\r\\nSOUND OFF, SOUND OFF, SOUND OFF, SOUND OFF  \\r\\n  \\r\\n(Ying Yang)  \\r\\nNiggas crossed standin all in line  \\r\\nThe club packed every muthafucken time  \\r\\nFly hoes looking alike darnit  \\r\\nRich thugs takin over V.I.P parkin  \\r\\nSay you came to hang, well i bet  \\r\\n4, or 5 crooks are here, we brang sweat  \\r\\nSmokin till you caint get no higher  \\r\\nIf the twins in your city its gonna be an all nighter  \\r\\nLucky women out there lemme hear you say  \\r\\nDo that there, do that there, where you at  \\r\\nIn the back of the club, in the front of the stage  \\r\\nGettin krunk with a nigga, say this song hit a nigga  \\r\\nI keepin shit simple like a.b.c  \\r\\nWe can muthafucken teach you goddamned birds and bees  \\r\\nIf you's a virgin, you need to stay away from me  \\r\\nIll pimp this straight hoe till you straight up leave  \\r\\n  \\r\\n(Chorus)  \\r\\nONE, TWO, you know what to do  \\r\\nONE, TWO, you know what to do  \\r\\nSOUND OFF, all my hoes in this muthafucker  \\r\\nSOUND OFF, all my niggas in this muthafucker  \\r\\nSOUND OFF, Ying Yang in this muthafucker  \\r\\nSOUND OFF, NIGGA, SOUND OFF, SOUND OFF  \\r\\nSOUND OFF, SOUND OFF, SOUND OFF, SOUND OFF  \\r\\n  \\r\\n(Ying Yang)  \\r\\nWhere my thugs at  \\r\\nSippin more yak  \\r\\nCumin in the car  \\r\\nStandin by the bar  \\r\\nSee every time ying yang catch a vibe  \\r\\nThey say we too hype, beg us too be quiet  \\r\\nThats all good if we was in a church  \\r\\nBut niggas be throwin bows, and hoes that love to twurk  \\r\\nOne more time, Hoot, Aim, Shoot  \\r\\nLemme jump off in  \\r\\nIf i said it i ment it, Im here to represent it  \\r\\nLove big booty bitches, love feelin on some titties  \\r\\nIf you think this shits explicit  \\r\\nDont let your kids hear it  \\r\\nBitch pop that pussy, and shake that ass  \\r\\nLast call for alchohol, save me the last dance  \\r\\nGot my dick hard doin that freaky shit  \\r\\nBest belive this the bitch that im leavin with  \\r\\n  \\r\\n(Chorus)  \\r\\nONE, TWO, you know what to do  \\r\\nONE, TWO, you know what to do  \\r\\nSOUND OFF, all my hoes in this muthafucker  \\r\\nSOUND OFF, all my niggas in this muthafucker  \\r\\nSOUND OFF, Ying Yang in this muthafucker  \\r\\nSOUND OFF, NIGGA, SOUND OFF, SOUND OFF  \\r\\nSOUND OFF, SOUND OFF, SOUND OFF, SOUND OFF  \\r\\n  \\r\\n(Ying Yang)  \\r\\nStep out in a polo air tight  \\r\\nSmoke a blunt, cant you hear em, my heads right  \\r\\nIf your cunt creams more let my nuts hang  \\r\\nRepresent in the crib, and the friggin cain  \\r\\nNiggas say oops shorty what they in for  \\r\\nGone drank all day, make the liquor store  \\r\\nI hate the way you ment it tell em that i need an O  \\r\\nLow blow but an O thats a no no  \\r\\nYing Yang got ya krunk sit down and ready  \\r\\nSo dont get up on the bitch till i back that ass up  \\r\\nI feel so weedy  \\r\\nshow a nigga that you can put some feel in nene  \\r\\nThe way you shaken ass bitch lemme hit it  \\r\\nOops my fault my hand be wondering  \\r\\n9 to 5 must be killin  \\r\\nLet me tell you something if you dont like what im sayin  \\r\\nKeep it to yourself but i still got hoes Gettin krunk with it  \\r\\n  \\r\\n(Chorus)  \\r\\nONE, TWO, you know what to do  \\r\\nONE, TWO, you know what to do  \\r\\nSOUND OFF, all my hoes in this muthafucker  \\r\\nSOUND OFF, all my niggas in this muthafucker  \\r\\nSOUND OFF, Ying Yang in this muthafucker  \\r\\nSOUND OFF, NIGGA, SOUND OFF, SOUND OFF  \\r\\nSOUND OFF, SOUND OFF, SOUND OFF, SOUND OFF  \\r\\n  \\r\\n(Ying Yang)  \\r\\nOhhh-Ohhh Ying Yang in this  \\r\\nOhhh-Ohhh Ying Yang in this  \\r\\nOhhh-Ohhh Ying Yang in this  \\r\\nYing Yang in this, Ying Yang in this  \\r\\nOhhh-Ohhh Ying Yang in this  \\r\\nOhhh-Ohhh Ying Yang in this  \\r\\nYing Yang in this, Ying Yang in this  \\r\\nOhhhhhh-\\r\\n\\r\\n\""
      ]
     },
     "execution_count": 128,
     "metadata": {},
     "output_type": "execute_result"
    }
   ],
   "source": [
    "df['text'][0]"
   ]
  },
  {
   "cell_type": "code",
   "execution_count": null,
   "id": "ad23aa73-833a-4dd3-954b-eef9ce24f2d2",
   "metadata": {},
   "outputs": [],
   "source": []
  },
  {
   "cell_type": "code",
   "execution_count": 129,
   "id": "1187c6d7-bf67-4126-82a9-a28867ad2575",
   "metadata": {},
   "outputs": [
    {
     "data": {
      "text/plain": [
       "(5000, 3)"
      ]
     },
     "execution_count": 129,
     "metadata": {},
     "output_type": "execute_result"
    }
   ],
   "source": [
    "df.shape"
   ]
  },
  {
   "cell_type": "markdown",
   "id": "972e1653-cbae-4f9a-b8f7-84457ce46057",
   "metadata": {},
   "source": [
    "Text Clearing/Text Preprocessing"
   ]
  },
  {
   "cell_type": "code",
   "execution_count": 130,
   "id": "e4c738c0-4006-4622-94f5-c2fbe280d6d9",
   "metadata": {},
   "outputs": [],
   "source": [
    "df['text']=df['text'].str.lower().replace(r'^\\w\\s', ' ').replace(r'\\n', ' ',regex = True)"
   ]
  },
  {
   "cell_type": "code",
   "execution_count": 131,
   "id": "03f3f2ca-55ab-48e7-ae3d-efe3f22263ca",
   "metadata": {
    "scrolled": true
   },
   "outputs": [
    {
     "data": {
      "text/html": [
       "<div>\n",
       "<style scoped>\n",
       "    .dataframe tbody tr th:only-of-type {\n",
       "        vertical-align: middle;\n",
       "    }\n",
       "\n",
       "    .dataframe tbody tr th {\n",
       "        vertical-align: top;\n",
       "    }\n",
       "\n",
       "    .dataframe thead th {\n",
       "        text-align: right;\n",
       "    }\n",
       "</style>\n",
       "<table border=\"1\" class=\"dataframe\">\n",
       "  <thead>\n",
       "    <tr style=\"text-align: right;\">\n",
       "      <th></th>\n",
       "      <th>artist</th>\n",
       "      <th>song</th>\n",
       "      <th>text</th>\n",
       "    </tr>\n",
       "  </thead>\n",
       "  <tbody>\n",
       "    <tr>\n",
       "      <th>4995</th>\n",
       "      <td>Oingo Boingo</td>\n",
       "      <td>It Only Makes Me Laugh</td>\n",
       "      <td>i don't know why i feel this way  \\r i don't k...</td>\n",
       "    </tr>\n",
       "    <tr>\n",
       "      <th>4996</th>\n",
       "      <td>John Mellencamp</td>\n",
       "      <td>Thank You</td>\n",
       "      <td>let me say thank-you to those who love many  \\...</td>\n",
       "    </tr>\n",
       "    <tr>\n",
       "      <th>4997</th>\n",
       "      <td>Andy Williams</td>\n",
       "      <td>Wouldn't It Be Loverly</td>\n",
       "      <td>words and music by alan jay lerner and frederi...</td>\n",
       "    </tr>\n",
       "    <tr>\n",
       "      <th>4998</th>\n",
       "      <td>Chuck Berry</td>\n",
       "      <td>House Lights</td>\n",
       "      <td>hey! ev'rybody, let's get it on  \\r you got on...</td>\n",
       "    </tr>\n",
       "    <tr>\n",
       "      <th>4999</th>\n",
       "      <td>Utopia</td>\n",
       "      <td>The Wheel</td>\n",
       "      <td>some people say life's like a merry-go-round  ...</td>\n",
       "    </tr>\n",
       "  </tbody>\n",
       "</table>\n",
       "</div>"
      ],
      "text/plain": [
       "               artist                    song  \\\n",
       "4995     Oingo Boingo  It Only Makes Me Laugh   \n",
       "4996  John Mellencamp               Thank You   \n",
       "4997    Andy Williams  Wouldn't It Be Loverly   \n",
       "4998      Chuck Berry            House Lights   \n",
       "4999           Utopia               The Wheel   \n",
       "\n",
       "                                                   text  \n",
       "4995  i don't know why i feel this way  \\r i don't k...  \n",
       "4996  let me say thank-you to those who love many  \\...  \n",
       "4997  words and music by alan jay lerner and frederi...  \n",
       "4998  hey! ev'rybody, let's get it on  \\r you got on...  \n",
       "4999  some people say life's like a merry-go-round  ...  "
      ]
     },
     "execution_count": 131,
     "metadata": {},
     "output_type": "execute_result"
    }
   ],
   "source": [
    "df.tail(5)"
   ]
  },
  {
   "cell_type": "code",
   "execution_count": 132,
   "id": "97fe7d12-acd7-4787-ab81-36351e76b96a",
   "metadata": {},
   "outputs": [],
   "source": [
    "import nltk\n",
    "from nltk.stem.porter import PorterStemmer"
   ]
  },
  {
   "cell_type": "code",
   "execution_count": 133,
   "id": "a24a0ad6-18a9-4c0a-b071-6d73a26a2018",
   "metadata": {},
   "outputs": [],
   "source": [
    "stemmer=PorterStemmer()"
   ]
  },
  {
   "cell_type": "code",
   "execution_count": 134,
   "id": "c3c74fb7-681d-42e1-8610-3fcb1004b765",
   "metadata": {},
   "outputs": [],
   "source": [
    "def token(txt):\n",
    "    tokens = nltk.word_tokenize(txt)\n",
    "    a=[stemmer.stem(w) for w in tokens]\n",
    "    return \" \".join(a)"
   ]
  },
  {
   "cell_type": "code",
   "execution_count": 135,
   "id": "efbdef9d-43a2-43cb-91a4-647a0c04f8de",
   "metadata": {},
   "outputs": [
    {
     "data": {
      "text/plain": [
       "'you are beauti , beauti'"
      ]
     },
     "execution_count": 135,
     "metadata": {},
     "output_type": "execute_result"
    }
   ],
   "source": [
    "token(\"you are beautiful,beauty\")"
   ]
  },
  {
   "cell_type": "code",
   "execution_count": 136,
   "id": "2291cac8-8d1a-409c-9352-4c216eac7c82",
   "metadata": {},
   "outputs": [
    {
     "data": {
      "text/plain": [
       "0       ( choru ) one , two , you know what to do one ...\n",
       "1       close the citi and tell the peopl that someth ...\n",
       "2       she said , `` tell me what it 's all about . '...\n",
       "3       a place where nobodi dare to go the love that ...\n",
       "4       welcom to your life there 's no turn back even...\n",
       "                              ...                        \n",
       "4995    i do n't know whi i feel thi way i do n't know...\n",
       "4996    let me say thank-you to those who love mani le...\n",
       "4997    word and music by alan jay lerner and frederic...\n",
       "4998    hey ! ev'rybodi , let 's get it on you got one...\n",
       "4999    some peopl say life 's like a merry-go-round i...\n",
       "Name: text, Length: 5000, dtype: object"
      ]
     },
     "execution_count": 136,
     "metadata": {},
     "output_type": "execute_result"
    }
   ],
   "source": [
    "df['text'].apply(lambda x: token(x))"
   ]
  },
  {
   "cell_type": "code",
   "execution_count": 137,
   "id": "8f9ad058-f761-48b5-8738-1a98745e5655",
   "metadata": {},
   "outputs": [],
   "source": [
    "from sklearn.feature_extraction.text import TfidfVectorizer\n",
    "from sklearn.metrics.pairwise import cosine_similarity"
   ]
  },
  {
   "cell_type": "code",
   "execution_count": 138,
   "id": "928cccc7-cdc7-4bab-81e7-359504da28ae",
   "metadata": {},
   "outputs": [],
   "source": [
    "tfid = TfidfVectorizer(analyzer='word',stop_words='english')"
   ]
  },
  {
   "cell_type": "code",
   "execution_count": 139,
   "id": "6af980a8-06df-4f03-96a0-990577af7a2b",
   "metadata": {},
   "outputs": [],
   "source": [
    "matrix = tfid.fit_transform(df['text'])"
   ]
  },
  {
   "cell_type": "code",
   "execution_count": 140,
   "id": "6e46fc6b-bbc5-4ecb-a1a1-d23319d92e08",
   "metadata": {},
   "outputs": [],
   "source": [
    "similer = cosine_similarity(matrix)"
   ]
  },
  {
   "cell_type": "code",
   "execution_count": 141,
   "id": "b8a80187-9cad-4279-8a73-1cabd8eebf92",
   "metadata": {},
   "outputs": [
    {
     "data": {
      "text/plain": [
       "array([0.00604898, 1.        , 0.02036792, ..., 0.02098563, 0.01304428,\n",
       "       0.07745666], shape=(5000,))"
      ]
     },
     "execution_count": 141,
     "metadata": {},
     "output_type": "execute_result"
    }
   ],
   "source": [
    "similer[1]"
   ]
  },
  {
   "cell_type": "code",
   "execution_count": 150,
   "id": "5c8d5756-5291-426a-b596-ae9857bdcb51",
   "metadata": {},
   "outputs": [
    {
     "data": {
      "text/plain": [
       "np.int64(6)"
      ]
     },
     "execution_count": 150,
     "metadata": {},
     "output_type": "execute_result"
    }
   ],
   "source": [
    "df[df['song'] == 'Give Me Love'].index[0]"
   ]
  },
  {
   "cell_type": "markdown",
   "id": "be63bb40-cbe1-447e-a9cf-06bbe43c1662",
   "metadata": {},
   "source": [
    "Recommender Function"
   ]
  },
  {
   "cell_type": "code",
   "execution_count": 151,
   "id": "cc43152d-1843-491b-a8a4-36ad1f24113f",
   "metadata": {},
   "outputs": [],
   "source": [
    "def recommender(song_name):\n",
    "    idx = df[df['song'] == song_name].index[0]\n",
    "    distance = sorted(list(enumerate(similer[idx])),reverse=True,key=lambda x:x[1])\n",
    "    songs = []\n",
    "    for s_id in distance[1:21]:\n",
    "        songs.append(df.iloc[s_id[0]].song)\n",
    "    return songs"
   ]
  },
  {
   "cell_type": "code",
   "execution_count": 152,
   "id": "86da9207-0817-4016-8b13-4e9b9d5d9857",
   "metadata": {},
   "outputs": [
    {
     "data": {
      "text/plain": [
       "['What I Needed',\n",
       " \"She's Gotta Be\",\n",
       " 'Another Hole In The Head',\n",
       " 'I Need You',\n",
       " 'You Are Not Needed Now',\n",
       " 'Late Night',\n",
       " 'Still In Love',\n",
       " 'Walk Away',\n",
       " 'If You Leave',\n",
       " \"It's Not Love, But It's Not Bad\",\n",
       " 'Golden Moments',\n",
       " 'You Lied',\n",
       " 'In A Simple Rhyme',\n",
       " 'Monster',\n",
       " 'Love You Like I Do',\n",
       " 'Just A Little Bit Of Your Heart',\n",
       " 'Been Hurt',\n",
       " 'Just A Little Bit Of Love',\n",
       " 'Little Bit Of Love',\n",
       " 'Help Me']"
      ]
     },
     "execution_count": 152,
     "metadata": {},
     "output_type": "execute_result"
    }
   ],
   "source": [
    "recommender(\"Give Me Love\")"
   ]
  },
  {
   "cell_type": "code",
   "execution_count": 153,
   "id": "7c0090aa-e96a-4228-9d01-a637e32c87f9",
   "metadata": {},
   "outputs": [],
   "source": [
    "import pickle"
   ]
  },
  {
   "cell_type": "code",
   "execution_count": 157,
   "id": "89370fa6-dffc-480a-90c9-b3118adc1f21",
   "metadata": {},
   "outputs": [],
   "source": [
    "pickle.dump(similer,open('similarity.pkl','wb'))"
   ]
  },
  {
   "cell_type": "code",
   "execution_count": 158,
   "id": "ba0ed300-d9cd-410f-8d4f-47172114e735",
   "metadata": {},
   "outputs": [],
   "source": [
    "pickle.dump(df,open('df.pkl','wb'))"
   ]
  },
  {
   "cell_type": "code",
   "execution_count": null,
   "id": "92e4e0f3-b84b-42dd-b0ca-f91aaaabadc3",
   "metadata": {},
   "outputs": [],
   "source": []
  }
 ],
 "metadata": {
  "kernelspec": {
   "display_name": "Python 3 (ipykernel)",
   "language": "python",
   "name": "python3"
  },
  "language_info": {
   "codemirror_mode": {
    "name": "ipython",
    "version": 3
   },
   "file_extension": ".py",
   "mimetype": "text/x-python",
   "name": "python",
   "nbconvert_exporter": "python",
   "pygments_lexer": "ipython3",
   "version": "3.13.3"
  }
 },
 "nbformat": 4,
 "nbformat_minor": 5
}
